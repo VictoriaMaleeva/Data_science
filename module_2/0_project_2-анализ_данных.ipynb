{
 "cells": [
  {
   "cell_type": "markdown",
   "metadata": {},
   "source": [
    "# Условия жизни и оценки по математике"
   ]
  },
  {
   "cell_type": "code",
   "execution_count": 138,
   "metadata": {},
   "outputs": [],
   "source": [
    "# Download packeges\n",
    "import pandas as pd\n",
    "import matplotlib.pyplot as plt\n",
    "import seaborn as sns\n",
    "import numpy as np\n",
    "from itertools import combinations\n",
    "from scipy.stats import ttest_ind\n",
    "\n",
    "pd.set_option('display.max_rows', 50)  # показывать больше строк\n",
    "pd.set_option('display.max_columns', 50)  # показывать больше колонок"
   ]
  },
  {
   "cell_type": "markdown",
   "metadata": {},
   "source": [
    "## Первичная обработка данных"
   ]
  },
  {
   "cell_type": "code",
   "execution_count": 139,
   "metadata": {},
   "outputs": [],
   "source": [
    "# Скачать набор данных\n",
    "df = pd.read_csv('stud_math.xls')"
   ]
  },
  {
   "cell_type": "code",
   "execution_count": 140,
   "metadata": {},
   "outputs": [
    {
     "data": {
      "text/html": [
       "<div>\n",
       "<style scoped>\n",
       "    .dataframe tbody tr th:only-of-type {\n",
       "        vertical-align: middle;\n",
       "    }\n",
       "\n",
       "    .dataframe tbody tr th {\n",
       "        vertical-align: top;\n",
       "    }\n",
       "\n",
       "    .dataframe thead th {\n",
       "        text-align: right;\n",
       "    }\n",
       "</style>\n",
       "<table border=\"1\" class=\"dataframe\">\n",
       "  <thead>\n",
       "    <tr style=\"text-align: right;\">\n",
       "      <th></th>\n",
       "      <th>school</th>\n",
       "      <th>sex</th>\n",
       "      <th>age</th>\n",
       "      <th>address</th>\n",
       "      <th>famsize</th>\n",
       "      <th>Pstatus</th>\n",
       "      <th>Medu</th>\n",
       "      <th>Fedu</th>\n",
       "      <th>Mjob</th>\n",
       "      <th>Fjob</th>\n",
       "      <th>reason</th>\n",
       "      <th>guardian</th>\n",
       "      <th>traveltime</th>\n",
       "      <th>studytime</th>\n",
       "      <th>failures</th>\n",
       "      <th>schoolsup</th>\n",
       "      <th>famsup</th>\n",
       "      <th>paid</th>\n",
       "      <th>activities</th>\n",
       "      <th>nursery</th>\n",
       "      <th>studytime, granular</th>\n",
       "      <th>higher</th>\n",
       "      <th>internet</th>\n",
       "      <th>romantic</th>\n",
       "      <th>famrel</th>\n",
       "      <th>freetime</th>\n",
       "      <th>goout</th>\n",
       "      <th>health</th>\n",
       "      <th>absences</th>\n",
       "      <th>score</th>\n",
       "    </tr>\n",
       "  </thead>\n",
       "  <tbody>\n",
       "    <tr>\n",
       "      <th>0</th>\n",
       "      <td>GP</td>\n",
       "      <td>F</td>\n",
       "      <td>18</td>\n",
       "      <td>U</td>\n",
       "      <td>NaN</td>\n",
       "      <td>A</td>\n",
       "      <td>4.0</td>\n",
       "      <td>4.0</td>\n",
       "      <td>at_home</td>\n",
       "      <td>teacher</td>\n",
       "      <td>course</td>\n",
       "      <td>mother</td>\n",
       "      <td>2.0</td>\n",
       "      <td>2.0</td>\n",
       "      <td>0.0</td>\n",
       "      <td>yes</td>\n",
       "      <td>no</td>\n",
       "      <td>no</td>\n",
       "      <td>no</td>\n",
       "      <td>yes</td>\n",
       "      <td>-6.0</td>\n",
       "      <td>yes</td>\n",
       "      <td>NaN</td>\n",
       "      <td>no</td>\n",
       "      <td>4.0</td>\n",
       "      <td>3.0</td>\n",
       "      <td>4.0</td>\n",
       "      <td>3.0</td>\n",
       "      <td>6.0</td>\n",
       "      <td>30.0</td>\n",
       "    </tr>\n",
       "    <tr>\n",
       "      <th>1</th>\n",
       "      <td>GP</td>\n",
       "      <td>F</td>\n",
       "      <td>17</td>\n",
       "      <td>U</td>\n",
       "      <td>GT3</td>\n",
       "      <td>NaN</td>\n",
       "      <td>1.0</td>\n",
       "      <td>1.0</td>\n",
       "      <td>at_home</td>\n",
       "      <td>other</td>\n",
       "      <td>course</td>\n",
       "      <td>father</td>\n",
       "      <td>1.0</td>\n",
       "      <td>2.0</td>\n",
       "      <td>0.0</td>\n",
       "      <td>no</td>\n",
       "      <td>yes</td>\n",
       "      <td>no</td>\n",
       "      <td>no</td>\n",
       "      <td>no</td>\n",
       "      <td>-6.0</td>\n",
       "      <td>yes</td>\n",
       "      <td>yes</td>\n",
       "      <td>no</td>\n",
       "      <td>5.0</td>\n",
       "      <td>3.0</td>\n",
       "      <td>3.0</td>\n",
       "      <td>3.0</td>\n",
       "      <td>4.0</td>\n",
       "      <td>30.0</td>\n",
       "    </tr>\n",
       "    <tr>\n",
       "      <th>2</th>\n",
       "      <td>GP</td>\n",
       "      <td>F</td>\n",
       "      <td>15</td>\n",
       "      <td>U</td>\n",
       "      <td>LE3</td>\n",
       "      <td>T</td>\n",
       "      <td>1.0</td>\n",
       "      <td>1.0</td>\n",
       "      <td>at_home</td>\n",
       "      <td>other</td>\n",
       "      <td>other</td>\n",
       "      <td>mother</td>\n",
       "      <td>1.0</td>\n",
       "      <td>2.0</td>\n",
       "      <td>3.0</td>\n",
       "      <td>yes</td>\n",
       "      <td>no</td>\n",
       "      <td>NaN</td>\n",
       "      <td>no</td>\n",
       "      <td>yes</td>\n",
       "      <td>-6.0</td>\n",
       "      <td>yes</td>\n",
       "      <td>yes</td>\n",
       "      <td>NaN</td>\n",
       "      <td>4.0</td>\n",
       "      <td>3.0</td>\n",
       "      <td>2.0</td>\n",
       "      <td>3.0</td>\n",
       "      <td>10.0</td>\n",
       "      <td>50.0</td>\n",
       "    </tr>\n",
       "    <tr>\n",
       "      <th>3</th>\n",
       "      <td>GP</td>\n",
       "      <td>F</td>\n",
       "      <td>15</td>\n",
       "      <td>U</td>\n",
       "      <td>GT3</td>\n",
       "      <td>T</td>\n",
       "      <td>4.0</td>\n",
       "      <td>2.0</td>\n",
       "      <td>health</td>\n",
       "      <td>NaN</td>\n",
       "      <td>home</td>\n",
       "      <td>mother</td>\n",
       "      <td>1.0</td>\n",
       "      <td>3.0</td>\n",
       "      <td>0.0</td>\n",
       "      <td>no</td>\n",
       "      <td>yes</td>\n",
       "      <td>yes</td>\n",
       "      <td>yes</td>\n",
       "      <td>yes</td>\n",
       "      <td>-9.0</td>\n",
       "      <td>yes</td>\n",
       "      <td>yes</td>\n",
       "      <td>yes</td>\n",
       "      <td>3.0</td>\n",
       "      <td>2.0</td>\n",
       "      <td>2.0</td>\n",
       "      <td>5.0</td>\n",
       "      <td>2.0</td>\n",
       "      <td>75.0</td>\n",
       "    </tr>\n",
       "    <tr>\n",
       "      <th>4</th>\n",
       "      <td>GP</td>\n",
       "      <td>F</td>\n",
       "      <td>16</td>\n",
       "      <td>U</td>\n",
       "      <td>GT3</td>\n",
       "      <td>T</td>\n",
       "      <td>3.0</td>\n",
       "      <td>3.0</td>\n",
       "      <td>other</td>\n",
       "      <td>other</td>\n",
       "      <td>home</td>\n",
       "      <td>father</td>\n",
       "      <td>1.0</td>\n",
       "      <td>2.0</td>\n",
       "      <td>0.0</td>\n",
       "      <td>no</td>\n",
       "      <td>yes</td>\n",
       "      <td>yes</td>\n",
       "      <td>no</td>\n",
       "      <td>yes</td>\n",
       "      <td>-6.0</td>\n",
       "      <td>yes</td>\n",
       "      <td>no</td>\n",
       "      <td>no</td>\n",
       "      <td>4.0</td>\n",
       "      <td>3.0</td>\n",
       "      <td>2.0</td>\n",
       "      <td>5.0</td>\n",
       "      <td>4.0</td>\n",
       "      <td>50.0</td>\n",
       "    </tr>\n",
       "    <tr>\n",
       "      <th>5</th>\n",
       "      <td>GP</td>\n",
       "      <td>M</td>\n",
       "      <td>16</td>\n",
       "      <td>U</td>\n",
       "      <td>LE3</td>\n",
       "      <td>T</td>\n",
       "      <td>4.0</td>\n",
       "      <td>3.0</td>\n",
       "      <td>services</td>\n",
       "      <td>other</td>\n",
       "      <td>reputation</td>\n",
       "      <td>mother</td>\n",
       "      <td>1.0</td>\n",
       "      <td>2.0</td>\n",
       "      <td>0.0</td>\n",
       "      <td>no</td>\n",
       "      <td>yes</td>\n",
       "      <td>yes</td>\n",
       "      <td>yes</td>\n",
       "      <td>yes</td>\n",
       "      <td>-6.0</td>\n",
       "      <td>yes</td>\n",
       "      <td>yes</td>\n",
       "      <td>no</td>\n",
       "      <td>5.0</td>\n",
       "      <td>4.0</td>\n",
       "      <td>2.0</td>\n",
       "      <td>5.0</td>\n",
       "      <td>10.0</td>\n",
       "      <td>75.0</td>\n",
       "    </tr>\n",
       "    <tr>\n",
       "      <th>6</th>\n",
       "      <td>GP</td>\n",
       "      <td>M</td>\n",
       "      <td>16</td>\n",
       "      <td>NaN</td>\n",
       "      <td>LE3</td>\n",
       "      <td>T</td>\n",
       "      <td>2.0</td>\n",
       "      <td>2.0</td>\n",
       "      <td>other</td>\n",
       "      <td>other</td>\n",
       "      <td>home</td>\n",
       "      <td>mother</td>\n",
       "      <td>1.0</td>\n",
       "      <td>2.0</td>\n",
       "      <td>0.0</td>\n",
       "      <td>no</td>\n",
       "      <td>no</td>\n",
       "      <td>no</td>\n",
       "      <td>no</td>\n",
       "      <td>yes</td>\n",
       "      <td>-6.0</td>\n",
       "      <td>yes</td>\n",
       "      <td>yes</td>\n",
       "      <td>no</td>\n",
       "      <td>4.0</td>\n",
       "      <td>4.0</td>\n",
       "      <td>4.0</td>\n",
       "      <td>3.0</td>\n",
       "      <td>0.0</td>\n",
       "      <td>55.0</td>\n",
       "    </tr>\n",
       "    <tr>\n",
       "      <th>7</th>\n",
       "      <td>GP</td>\n",
       "      <td>F</td>\n",
       "      <td>17</td>\n",
       "      <td>U</td>\n",
       "      <td>GT3</td>\n",
       "      <td>A</td>\n",
       "      <td>4.0</td>\n",
       "      <td>4.0</td>\n",
       "      <td>other</td>\n",
       "      <td>teacher</td>\n",
       "      <td>home</td>\n",
       "      <td>mother</td>\n",
       "      <td>2.0</td>\n",
       "      <td>2.0</td>\n",
       "      <td>0.0</td>\n",
       "      <td>yes</td>\n",
       "      <td>yes</td>\n",
       "      <td>no</td>\n",
       "      <td>no</td>\n",
       "      <td>yes</td>\n",
       "      <td>-6.0</td>\n",
       "      <td>yes</td>\n",
       "      <td>no</td>\n",
       "      <td>no</td>\n",
       "      <td>4.0</td>\n",
       "      <td>1.0</td>\n",
       "      <td>4.0</td>\n",
       "      <td>1.0</td>\n",
       "      <td>6.0</td>\n",
       "      <td>30.0</td>\n",
       "    </tr>\n",
       "    <tr>\n",
       "      <th>8</th>\n",
       "      <td>GP</td>\n",
       "      <td>M</td>\n",
       "      <td>15</td>\n",
       "      <td>U</td>\n",
       "      <td>LE3</td>\n",
       "      <td>A</td>\n",
       "      <td>3.0</td>\n",
       "      <td>2.0</td>\n",
       "      <td>services</td>\n",
       "      <td>other</td>\n",
       "      <td>home</td>\n",
       "      <td>mother</td>\n",
       "      <td>1.0</td>\n",
       "      <td>2.0</td>\n",
       "      <td>0.0</td>\n",
       "      <td>no</td>\n",
       "      <td>yes</td>\n",
       "      <td>yes</td>\n",
       "      <td>no</td>\n",
       "      <td>yes</td>\n",
       "      <td>-6.0</td>\n",
       "      <td>yes</td>\n",
       "      <td>yes</td>\n",
       "      <td>no</td>\n",
       "      <td>NaN</td>\n",
       "      <td>2.0</td>\n",
       "      <td>2.0</td>\n",
       "      <td>1.0</td>\n",
       "      <td>0.0</td>\n",
       "      <td>95.0</td>\n",
       "    </tr>\n",
       "    <tr>\n",
       "      <th>9</th>\n",
       "      <td>GP</td>\n",
       "      <td>M</td>\n",
       "      <td>15</td>\n",
       "      <td>U</td>\n",
       "      <td>NaN</td>\n",
       "      <td>NaN</td>\n",
       "      <td>3.0</td>\n",
       "      <td>4.0</td>\n",
       "      <td>other</td>\n",
       "      <td>other</td>\n",
       "      <td>home</td>\n",
       "      <td>mother</td>\n",
       "      <td>1.0</td>\n",
       "      <td>2.0</td>\n",
       "      <td>0.0</td>\n",
       "      <td>no</td>\n",
       "      <td>yes</td>\n",
       "      <td>yes</td>\n",
       "      <td>yes</td>\n",
       "      <td>yes</td>\n",
       "      <td>-6.0</td>\n",
       "      <td>yes</td>\n",
       "      <td>yes</td>\n",
       "      <td>no</td>\n",
       "      <td>5.0</td>\n",
       "      <td>5.0</td>\n",
       "      <td>1.0</td>\n",
       "      <td>5.0</td>\n",
       "      <td>0.0</td>\n",
       "      <td>75.0</td>\n",
       "    </tr>\n",
       "  </tbody>\n",
       "</table>\n",
       "</div>"
      ],
      "text/plain": [
       "  school sex  age address famsize Pstatus  Medu  Fedu      Mjob     Fjob  \\\n",
       "0     GP   F   18       U     NaN       A   4.0   4.0   at_home  teacher   \n",
       "1     GP   F   17       U     GT3     NaN   1.0   1.0   at_home    other   \n",
       "2     GP   F   15       U     LE3       T   1.0   1.0   at_home    other   \n",
       "3     GP   F   15       U     GT3       T   4.0   2.0    health      NaN   \n",
       "4     GP   F   16       U     GT3       T   3.0   3.0     other    other   \n",
       "5     GP   M   16       U     LE3       T   4.0   3.0  services    other   \n",
       "6     GP   M   16     NaN     LE3       T   2.0   2.0     other    other   \n",
       "7     GP   F   17       U     GT3       A   4.0   4.0     other  teacher   \n",
       "8     GP   M   15       U     LE3       A   3.0   2.0  services    other   \n",
       "9     GP   M   15       U     NaN     NaN   3.0   4.0     other    other   \n",
       "\n",
       "       reason guardian  traveltime  studytime  failures schoolsup famsup paid  \\\n",
       "0      course   mother         2.0        2.0       0.0       yes     no   no   \n",
       "1      course   father         1.0        2.0       0.0        no    yes   no   \n",
       "2       other   mother         1.0        2.0       3.0       yes     no  NaN   \n",
       "3        home   mother         1.0        3.0       0.0        no    yes  yes   \n",
       "4        home   father         1.0        2.0       0.0        no    yes  yes   \n",
       "5  reputation   mother         1.0        2.0       0.0        no    yes  yes   \n",
       "6        home   mother         1.0        2.0       0.0        no     no   no   \n",
       "7        home   mother         2.0        2.0       0.0       yes    yes   no   \n",
       "8        home   mother         1.0        2.0       0.0        no    yes  yes   \n",
       "9        home   mother         1.0        2.0       0.0        no    yes  yes   \n",
       "\n",
       "  activities nursery  studytime, granular higher internet romantic  famrel  \\\n",
       "0         no     yes                 -6.0    yes      NaN       no     4.0   \n",
       "1         no      no                 -6.0    yes      yes       no     5.0   \n",
       "2         no     yes                 -6.0    yes      yes      NaN     4.0   \n",
       "3        yes     yes                 -9.0    yes      yes      yes     3.0   \n",
       "4         no     yes                 -6.0    yes       no       no     4.0   \n",
       "5        yes     yes                 -6.0    yes      yes       no     5.0   \n",
       "6         no     yes                 -6.0    yes      yes       no     4.0   \n",
       "7         no     yes                 -6.0    yes       no       no     4.0   \n",
       "8         no     yes                 -6.0    yes      yes       no     NaN   \n",
       "9        yes     yes                 -6.0    yes      yes       no     5.0   \n",
       "\n",
       "   freetime  goout  health  absences  score  \n",
       "0       3.0    4.0     3.0       6.0   30.0  \n",
       "1       3.0    3.0     3.0       4.0   30.0  \n",
       "2       3.0    2.0     3.0      10.0   50.0  \n",
       "3       2.0    2.0     5.0       2.0   75.0  \n",
       "4       3.0    2.0     5.0       4.0   50.0  \n",
       "5       4.0    2.0     5.0      10.0   75.0  \n",
       "6       4.0    4.0     3.0       0.0   55.0  \n",
       "7       1.0    4.0     1.0       6.0   30.0  \n",
       "8       2.0    2.0     1.0       0.0   95.0  \n",
       "9       5.0    1.0     5.0       0.0   75.0  "
      ]
     },
     "execution_count": 140,
     "metadata": {},
     "output_type": "execute_result"
    }
   ],
   "source": [
    "# Выводим первые 10 наблюдений\n",
    "df.head(10)"
   ]
  },
  {
   "cell_type": "markdown",
   "metadata": {},
   "source": [
    "Мы видим что пропущеные значения обозначаются как NaN. Что бы все пустые значения отображались корректно заменим все пустые ячейки на NaN."
   ]
  },
  {
   "cell_type": "code",
   "execution_count": 141,
   "metadata": {},
   "outputs": [],
   "source": [
    "# in case of any empty cells we replace it with NaN\n",
    "df = df.replace('', np.nan)"
   ]
  },
  {
   "cell_type": "markdown",
   "metadata": {},
   "source": [
    "Теперь мы можем оценить количество пропущенных наблюдений для каждой переменной"
   ]
  },
  {
   "cell_type": "code",
   "execution_count": 142,
   "metadata": {},
   "outputs": [
    {
     "data": {
      "text/plain": [
       "school                  0\n",
       "sex                     0\n",
       "age                     0\n",
       "address                17\n",
       "famsize                27\n",
       "Pstatus                45\n",
       "Medu                    3\n",
       "Fedu                   24\n",
       "Mjob                   19\n",
       "Fjob                   36\n",
       "reason                 17\n",
       "guardian               31\n",
       "traveltime             28\n",
       "studytime               7\n",
       "failures               22\n",
       "schoolsup               9\n",
       "famsup                 39\n",
       "paid                   40\n",
       "activities             14\n",
       "nursery                16\n",
       "studytime, granular     7\n",
       "higher                 20\n",
       "internet               34\n",
       "romantic               31\n",
       "famrel                 27\n",
       "freetime               11\n",
       "goout                   8\n",
       "health                 15\n",
       "absences               12\n",
       "score                   6\n",
       "dtype: int64"
      ]
     },
     "execution_count": 142,
     "metadata": {},
     "output_type": "execute_result"
    }
   ],
   "source": [
    "df.isnull().sum()"
   ]
  },
  {
   "cell_type": "markdown",
   "metadata": {},
   "source": [
    "Сравниваем в количеством не пустых наблюдений"
   ]
  },
  {
   "cell_type": "code",
   "execution_count": 143,
   "metadata": {},
   "outputs": [
    {
     "name": "stdout",
     "output_type": "stream",
     "text": [
      "<class 'pandas.core.frame.DataFrame'>\n",
      "RangeIndex: 395 entries, 0 to 394\n",
      "Data columns (total 30 columns):\n",
      " #   Column               Non-Null Count  Dtype  \n",
      "---  ------               --------------  -----  \n",
      " 0   school               395 non-null    object \n",
      " 1   sex                  395 non-null    object \n",
      " 2   age                  395 non-null    int64  \n",
      " 3   address              378 non-null    object \n",
      " 4   famsize              368 non-null    object \n",
      " 5   Pstatus              350 non-null    object \n",
      " 6   Medu                 392 non-null    float64\n",
      " 7   Fedu                 371 non-null    float64\n",
      " 8   Mjob                 376 non-null    object \n",
      " 9   Fjob                 359 non-null    object \n",
      " 10  reason               378 non-null    object \n",
      " 11  guardian             364 non-null    object \n",
      " 12  traveltime           367 non-null    float64\n",
      " 13  studytime            388 non-null    float64\n",
      " 14  failures             373 non-null    float64\n",
      " 15  schoolsup            386 non-null    object \n",
      " 16  famsup               356 non-null    object \n",
      " 17  paid                 355 non-null    object \n",
      " 18  activities           381 non-null    object \n",
      " 19  nursery              379 non-null    object \n",
      " 20  studytime, granular  388 non-null    float64\n",
      " 21  higher               375 non-null    object \n",
      " 22  internet             361 non-null    object \n",
      " 23  romantic             364 non-null    object \n",
      " 24  famrel               368 non-null    float64\n",
      " 25  freetime             384 non-null    float64\n",
      " 26  goout                387 non-null    float64\n",
      " 27  health               380 non-null    float64\n",
      " 28  absences             383 non-null    float64\n",
      " 29  score                389 non-null    float64\n",
      "dtypes: float64(12), int64(1), object(17)\n",
      "memory usage: 92.7+ KB\n"
     ]
    }
   ],
   "source": [
    "df.info()"
   ]
  },
  {
   "cell_type": "markdown",
   "metadata": {},
   "source": [
    "Мы можем сделать вывод что в данном датасете не очень много пропущенных значений, самое большое значение 45 из 395 для переменной Pstatus"
   ]
  },
  {
   "cell_type": "markdown",
   "metadata": {},
   "source": [
    "Для удобства работы переименуем некоторые переменные"
   ]
  },
  {
   "cell_type": "code",
   "execution_count": 144,
   "metadata": {},
   "outputs": [
    {
     "name": "stdout",
     "output_type": "stream",
     "text": [
      "<class 'pandas.core.frame.DataFrame'>\n",
      "RangeIndex: 395 entries, 0 to 394\n",
      "Data columns (total 30 columns):\n",
      " #   Column          Non-Null Count  Dtype  \n",
      "---  ------          --------------  -----  \n",
      " 0   school          395 non-null    object \n",
      " 1   sex             395 non-null    object \n",
      " 2   age             395 non-null    int64  \n",
      " 3   urban           378 non-null    object \n",
      " 4   family_size     368 non-null    object \n",
      " 5   parents_status  350 non-null    object \n",
      " 6   mother_educ     392 non-null    float64\n",
      " 7   father_educ     371 non-null    float64\n",
      " 8   mother_job      376 non-null    object \n",
      " 9   father_job      359 non-null    object \n",
      " 10  reason_school   378 non-null    object \n",
      " 11  guardian        364 non-null    object \n",
      " 12  travel_time     367 non-null    float64\n",
      " 13  study_time      388 non-null    float64\n",
      " 14  failures        373 non-null    float64\n",
      " 15  educ_sup        386 non-null    object \n",
      " 16  family_sup      356 non-null    object \n",
      " 17  paid_math       355 non-null    object \n",
      " 18  activities      381 non-null    object \n",
      " 19  nursery         379 non-null    object \n",
      " 20  studytime       388 non-null    float64\n",
      " 21  higher          375 non-null    object \n",
      " 22  internet        361 non-null    object \n",
      " 23  romantic        364 non-null    object \n",
      " 24  family_rel      368 non-null    float64\n",
      " 25  free_time       384 non-null    float64\n",
      " 26  friends_time    387 non-null    float64\n",
      " 27  health          380 non-null    float64\n",
      " 28  absences        383 non-null    float64\n",
      " 29  score           389 non-null    float64\n",
      "dtypes: float64(12), int64(1), object(17)\n",
      "memory usage: 92.7+ KB\n"
     ]
    }
   ],
   "source": [
    "# Rename the columns\n",
    "df = df.rename(columns={\"studytime, granular\": \"studytime\",\n",
    "                        'Pstatus': 'parents_status',\n",
    "                        'Medu': 'mother_educ',\n",
    "                        'Fedu': 'father_educ',\n",
    "                        'Mjob': 'mother_job',\n",
    "                        'Fjob': 'father_job',\n",
    "                        'traveltime': 'travel_time',\n",
    "                        'studytime': 'study_time',\n",
    "                        'schoolsup': 'educ_sup',\n",
    "                        'famsup': 'family_sup',\n",
    "                        'paid': 'paid_math',\n",
    "                        'famrel': 'family_rel',\n",
    "                        'freetime': 'free_time',\n",
    "                        'goout': 'friends_time',\n",
    "                        'famsize': 'family_size',\n",
    "                        'reason': 'reason_school',\n",
    "                        'address': 'urban'})\n",
    "\n",
    "df.info()"
   ]
  },
  {
   "cell_type": "markdown",
   "metadata": {},
   "source": [
    "У нас есть две переменные под одним именем - studytime.\n",
    "Проверим идентичны ли они."
   ]
  },
  {
   "cell_type": "code",
   "execution_count": 145,
   "metadata": {},
   "outputs": [
    {
     "data": {
      "text/html": [
       "<div>\n",
       "<style scoped>\n",
       "    .dataframe tbody tr th:only-of-type {\n",
       "        vertical-align: middle;\n",
       "    }\n",
       "\n",
       "    .dataframe tbody tr th {\n",
       "        vertical-align: top;\n",
       "    }\n",
       "\n",
       "    .dataframe thead th {\n",
       "        text-align: right;\n",
       "    }\n",
       "</style>\n",
       "<table border=\"1\" class=\"dataframe\">\n",
       "  <thead>\n",
       "    <tr style=\"text-align: right;\">\n",
       "      <th></th>\n",
       "      <th>study_time</th>\n",
       "      <th>studytime</th>\n",
       "    </tr>\n",
       "  </thead>\n",
       "  <tbody>\n",
       "    <tr>\n",
       "      <th>count</th>\n",
       "      <td>388.000000</td>\n",
       "      <td>388.000000</td>\n",
       "    </tr>\n",
       "    <tr>\n",
       "      <th>mean</th>\n",
       "      <td>2.038660</td>\n",
       "      <td>-6.115979</td>\n",
       "    </tr>\n",
       "    <tr>\n",
       "      <th>std</th>\n",
       "      <td>0.842078</td>\n",
       "      <td>2.526235</td>\n",
       "    </tr>\n",
       "    <tr>\n",
       "      <th>min</th>\n",
       "      <td>1.000000</td>\n",
       "      <td>-12.000000</td>\n",
       "    </tr>\n",
       "    <tr>\n",
       "      <th>25%</th>\n",
       "      <td>1.000000</td>\n",
       "      <td>-6.000000</td>\n",
       "    </tr>\n",
       "    <tr>\n",
       "      <th>50%</th>\n",
       "      <td>2.000000</td>\n",
       "      <td>-6.000000</td>\n",
       "    </tr>\n",
       "    <tr>\n",
       "      <th>75%</th>\n",
       "      <td>2.000000</td>\n",
       "      <td>-3.000000</td>\n",
       "    </tr>\n",
       "    <tr>\n",
       "      <th>max</th>\n",
       "      <td>4.000000</td>\n",
       "      <td>-3.000000</td>\n",
       "    </tr>\n",
       "  </tbody>\n",
       "</table>\n",
       "</div>"
      ],
      "text/plain": [
       "       study_time   studytime\n",
       "count  388.000000  388.000000\n",
       "mean     2.038660   -6.115979\n",
       "std      0.842078    2.526235\n",
       "min      1.000000  -12.000000\n",
       "25%      1.000000   -6.000000\n",
       "50%      2.000000   -6.000000\n",
       "75%      2.000000   -3.000000\n",
       "max      4.000000   -3.000000"
      ]
     },
     "execution_count": 145,
     "metadata": {},
     "output_type": "execute_result"
    }
   ],
   "source": [
    "df[['study_time', 'studytime']].describe()"
   ]
  },
  {
   "cell_type": "markdown",
   "metadata": {},
   "source": [
    "Мы видим, что вторая studytime имеет только отрицательные значения. Поскольку время следует измерять только положительными значениями, нам нужно отбросить studytime с отрицательными значениями."
   ]
  },
  {
   "cell_type": "code",
   "execution_count": 146,
   "metadata": {},
   "outputs": [],
   "source": [
    "df.drop(df.columns[20], axis=1, inplace=True)"
   ]
  },
  {
   "cell_type": "markdown",
   "metadata": {},
   "source": [
    "Для дальнейшего анализа разделим переменные на количественные и номинативные."
   ]
  },
  {
   "cell_type": "code",
   "execution_count": 147,
   "metadata": {},
   "outputs": [
    {
     "name": "stdout",
     "output_type": "stream",
     "text": [
      "12 17\n"
     ]
    }
   ],
   "source": [
    "numeric = df.select_dtypes(include=np.number).columns.tolist()\n",
    "factor = df.select_dtypes(exclude=np.number).columns.tolist()\n",
    "print(len(numeric), len(factor))"
   ]
  },
  {
   "cell_type": "markdown",
   "metadata": {},
   "source": [
    "У нас есть 12 количественныx и 17 номинативных переменных."
   ]
  },
  {
   "cell_type": "markdown",
   "metadata": {},
   "source": [
    "Проверим уникальные значения номинативных переменных"
   ]
  },
  {
   "cell_type": "code",
   "execution_count": 148,
   "metadata": {},
   "outputs": [
    {
     "name": "stdout",
     "output_type": "stream",
     "text": [
      "GP    349\n",
      "MS     46\n",
      "Name: school, dtype: int64\n",
      "F    208\n",
      "M    187\n",
      "Name: sex, dtype: int64\n",
      "U    295\n",
      "R     83\n",
      "Name: urban, dtype: int64\n",
      "GT3    261\n",
      "LE3    107\n",
      "Name: family_size, dtype: int64\n",
      "T    314\n",
      "A     36\n",
      "Name: parents_status, dtype: int64\n",
      "other       133\n",
      "services     98\n",
      "at_home      58\n",
      "teacher      55\n",
      "health       32\n",
      "Name: mother_job, dtype: int64\n",
      "other       197\n",
      "services    102\n",
      "teacher      29\n",
      "at_home      16\n",
      "health       15\n",
      "Name: father_job, dtype: int64\n",
      "course        137\n",
      "home          104\n",
      "reputation    103\n",
      "other          34\n",
      "Name: reason_school, dtype: int64\n",
      "mother    250\n",
      "father     86\n",
      "other      28\n",
      "Name: guardian, dtype: int64\n",
      "no     335\n",
      "yes     51\n",
      "Name: educ_sup, dtype: int64\n",
      "yes    219\n",
      "no     137\n",
      "Name: family_sup, dtype: int64\n",
      "no     200\n",
      "yes    155\n",
      "Name: paid_math, dtype: int64\n",
      "yes    195\n",
      "no     186\n",
      "Name: activities, dtype: int64\n",
      "yes    300\n",
      "no      79\n",
      "Name: nursery, dtype: int64\n",
      "yes    356\n",
      "no      19\n",
      "Name: higher, dtype: int64\n",
      "yes    305\n",
      "no      56\n",
      "Name: internet, dtype: int64\n",
      "no     240\n",
      "yes    124\n",
      "Name: romantic, dtype: int64\n"
     ]
    }
   ],
   "source": [
    "for var in factor:\n",
    "    print(df[var].value_counts())"
   ]
  },
  {
   "cell_type": "markdown",
   "metadata": {},
   "source": [
    "Изменим некоторые значения для лучшего понимания"
   ]
  },
  {
   "cell_type": "code",
   "execution_count": 149,
   "metadata": {},
   "outputs": [],
   "source": [
    "df.replace('F', 'Female', inplace=True)\n",
    "df.replace('M', 'Male', inplace=True)\n",
    "\n",
    "df.replace('U', 'Urban', inplace=True)\n",
    "df.replace('R', 'Rural', inplace=True)\n",
    "\n",
    "df.replace('GT3', '4+', inplace=True)\n",
    "df.replace('LE3', '1-3', inplace=True)\n",
    "\n",
    "df.replace('T', 'Living together', inplace=True)\n",
    "df.replace('A', 'Living separately', inplace=True)\n",
    "\n",
    "df.replace('other', 'Other', inplace=True)\n",
    "df.replace('services', 'Civil Service', inplace=True)\n",
    "df.replace('at_home', 'Unemployed', inplace=True)\n",
    "df.replace('teacher', 'Teacher', inplace=True)\n",
    "df.replace('health', 'Health Care', inplace=True)\n",
    "\n",
    "df.replace('course', 'Educational Program', inplace=True)\n",
    "df.replace('home', 'Home Proximity', inplace=True)\n",
    "df.replace('reputation', 'School Reputation', inplace=True)\n",
    "\n",
    "df.replace('mother', 'Mother', inplace=True)\n",
    "df.replace('father', 'Father', inplace=True)\n",
    "\n",
    "df.replace('yes', 'Yes', inplace=True)\n",
    "df.replace('no', 'No', inplace=True)"
   ]
  },
  {
   "cell_type": "markdown",
   "metadata": {},
   "source": [
    "Количественные переменные я проверю одну за одной на предмет вбросов."
   ]
  },
  {
   "cell_type": "markdown",
   "metadata": {},
   "source": [
    "<strong>Age<strong>"
   ]
  },
  {
   "cell_type": "code",
   "execution_count": 150,
   "metadata": {},
   "outputs": [
    {
     "data": {
      "text/plain": [
       "<matplotlib.axes._subplots.AxesSubplot at 0x7fccc64e7ac0>"
      ]
     },
     "execution_count": 150,
     "metadata": {},
     "output_type": "execute_result"
    },
    {
     "data": {
      "image/png": "[encoded data removed]",
      "text/plain": [
       "<Figure size 432x288 with 1 Axes>"
      ]
     },
     "metadata": {
      "needs_background": "light"
     },
     "output_type": "display_data"
    }
   ],
   "source": [
    "df.age.describe()\n",
    "df.age.hist()\n",
    "# У нас есть потенциальные вбросы, студенты старше 19 лет"
   ]
  },
  {
   "cell_type": "code",
   "execution_count": 151,
   "metadata": {},
   "outputs": [],
   "source": [
    "# Чтобы упростить код, я определяю функцию \"iqr (x)\" для вычисления iqr для\n",
    "# заданной переменной x и диапазон выбросов\n",
    "def iqr(x):\n",
    "    IQR = df[x].quantile(0.75) - df[x].quantile(0.25)\n",
    "    perc25 = df[x].quantile(0.25)\n",
    "    perc75 = df[x].quantile(0.75)\n",
    "    print('25th quantile: {},'.format(perc25),\n",
    "          '75-й quantile: {},'.format(perc75),\n",
    "          \"IQR: {}, \".format(IQR),\n",
    "          \"Outliers' range: [{f}, {l}].\".format(f=perc25 - 1.5*IQR,\n",
    "                                                l=perc75 + 1.5*IQR))\n",
    "    df[x].loc[df[x].between(perc25 - 1.5*IQR,\n",
    "                            perc75 + 1.5*IQR)].hist(label='IQR')\n",
    "    plt.legend()"
   ]
  },
  {
   "cell_type": "code",
   "execution_count": 152,
   "metadata": {},
   "outputs": [
    {
     "name": "stdout",
     "output_type": "stream",
     "text": [
      "25th quantile: 16.0, 75-й quantile: 18.0, IQR: 2.0,  Outliers' range: [13.0, 21.0].\n"
     ]
    },
    {
     "data": {
      "image/png": "[encoded data removed]",
      "text/plain": [
       "<Figure size 432x288 with 1 Axes>"
      ]
     },
     "metadata": {
      "needs_background": "light"
     },
     "output_type": "display_data"
    }
   ],
   "source": [
    "# Вычисляем диапазон выбросов для \"age\"\n",
    "iqr('age')"
   ]
  },
  {
   "cell_type": "markdown",
   "metadata": {},
   "source": [
    "Этот метод говорит нам, что только учащиеся старше 21 года являются выбросами.\n",
    "\n",
    "Поскольку этот набор данных включает ТОЛЬКО школьников, я думаю, что лучше всего оставить в нем только учеников младше 19 лет, поскольку этот возраст более типичен для выпускников школ."
   ]
  },
  {
   "cell_type": "code",
   "execution_count": 153,
   "metadata": {},
   "outputs": [
    {
     "data": {
      "text/plain": [
       "<matplotlib.axes._subplots.AxesSubplot at 0x7fccc399fac0>"
      ]
     },
     "execution_count": 153,
     "metadata": {},
     "output_type": "execute_result"
    },
    {
     "data": {
      "image/png": "[encoded data removed]",
      "text/plain": [
       "<Figure size 432x288 with 1 Axes>"
      ]
     },
     "metadata": {
      "needs_background": "light"
     },
     "output_type": "display_data"
    }
   ],
   "source": [
    "df = df.loc[df.age.between(15, 19)]\n",
    "df.age.hist()"
   ]
  },
  {
   "cell_type": "markdown",
   "metadata": {},
   "source": [
    "<strong>Mother's Education<strong>"
   ]
  },
  {
   "cell_type": "code",
   "execution_count": 154,
   "metadata": {},
   "outputs": [
    {
     "data": {
      "text/plain": [
       "4.0    130\n",
       "2.0    101\n",
       "3.0     95\n",
       "1.0     58\n",
       "0.0      3\n",
       "Name: mother_educ, dtype: int64"
      ]
     },
     "execution_count": 154,
     "metadata": {},
     "output_type": "execute_result"
    }
   ],
   "source": [
    "df.mother_educ.describe()\n",
    "df.mother_educ.value_counts()"
   ]
  },
  {
   "cell_type": "markdown",
   "metadata": {},
   "source": [
    "В наборе данных нет никаких признаков выбросов. Поскольку данные мировые, вполне возможно что некоторые матери не получают образования вообще (mother_educ == 0), по этому мы не будем считать mother_educ == 0 за выбросы."
   ]
  },
  {
   "cell_type": "markdown",
   "metadata": {},
   "source": [
    "<strong>Father's Education<strong>"
   ]
  },
  {
   "cell_type": "code",
   "execution_count": 155,
   "metadata": {},
   "outputs": [
    {
     "data": {
      "text/plain": [
       "2.0     103\n",
       "3.0      96\n",
       "4.0      88\n",
       "1.0      76\n",
       "0.0       2\n",
       "40.0      1\n",
       "Name: father_educ, dtype: int64"
      ]
     },
     "execution_count": 155,
     "metadata": {},
     "output_type": "execute_result"
    }
   ],
   "source": [
    "df.father_educ.describe()\n",
    "df.father_educ.value_counts()"
   ]
  },
  {
   "cell_type": "markdown",
   "metadata": {},
   "source": [
    "Как было объяснено в предыдущем разделе, father_education == 0 не является выбросом.\n",
    "\n",
    "Однако у нас есть явный выброс: father_education == 40"
   ]
  },
  {
   "cell_type": "code",
   "execution_count": 156,
   "metadata": {},
   "outputs": [],
   "source": [
    "df = df.loc[df.father_educ.between(0, 4)]  # удаляем выбросы"
   ]
  },
  {
   "cell_type": "markdown",
   "metadata": {},
   "source": [
    "<strong>Time to get to school<strong>"
   ]
  },
  {
   "cell_type": "code",
   "execution_count": 157,
   "metadata": {},
   "outputs": [
    {
     "data": {
      "text/plain": [
       "1.0    221\n",
       "2.0     91\n",
       "3.0     21\n",
       "4.0      7\n",
       "Name: travel_time, dtype: int64"
      ]
     },
     "execution_count": 157,
     "metadata": {},
     "output_type": "execute_result"
    }
   ],
   "source": [
    "df.travel_time.value_counts()"
   ]
  },
  {
   "cell_type": "markdown",
   "metadata": {},
   "source": [
    "Мы наблюдаем только 7 учеников, которые добираются до школы более чем за 60 минут."
   ]
  },
  {
   "cell_type": "code",
   "execution_count": 158,
   "metadata": {},
   "outputs": [
    {
     "name": "stdout",
     "output_type": "stream",
     "text": [
      "25th quantile: 1.0, 75-й quantile: 2.0, IQR: 1.0,  Outliers' range: [-0.5, 3.5].\n"
     ]
    },
    {
     "data": {
      "image/png": "[encoded data removed]",
      "text/plain": [
       "<Figure size 432x288 with 1 Axes>"
      ]
     },
     "metadata": {
      "needs_background": "light"
     },
     "output_type": "display_data"
    }
   ],
   "source": [
    "# Вычисляем диапазон выбросов для \"travel_time\"\n",
    "iqr('travel_time')"
   ]
  },
  {
   "cell_type": "markdown",
   "metadata": {},
   "source": [
    "Верхняя граница интервала равна 3,5, что дает нам причину сбросить наблюдения с travel_time > 3,5."
   ]
  },
  {
   "cell_type": "code",
   "execution_count": 159,
   "metadata": {},
   "outputs": [],
   "source": [
    "df = df.loc[df.travel_time.between(1, 3)]"
   ]
  },
  {
   "cell_type": "markdown",
   "metadata": {},
   "source": [
    "<strong>Study Time<strong>"
   ]
  },
  {
   "cell_type": "code",
   "execution_count": 160,
   "metadata": {},
   "outputs": [
    {
     "data": {
      "text/plain": [
       "<matplotlib.axes._subplots.AxesSubplot at 0x7fccc4527e20>"
      ]
     },
     "execution_count": 160,
     "metadata": {},
     "output_type": "execute_result"
    },
    {
     "data": {
      "image/png": "[encoded data removed]",
      "text/plain": [
       "<Figure size 432x288 with 1 Axes>"
      ]
     },
     "metadata": {
      "needs_background": "light"
     },
     "output_type": "display_data"
    }
   ],
   "source": [
    "df.study_time.value_counts()\n",
    "df.study_time.hist()\n",
    "\n",
    "# Никаких признаков выбросов"
   ]
  },
  {
   "cell_type": "markdown",
   "metadata": {},
   "source": [
    "<strong>Failures<strong>"
   ]
  },
  {
   "cell_type": "code",
   "execution_count": 161,
   "metadata": {},
   "outputs": [
    {
     "name": "stdout",
     "output_type": "stream",
     "text": [
      "count    317.000000\n",
      "mean       0.296530\n",
      "std        0.684656\n",
      "min        0.000000\n",
      "25%        0.000000\n",
      "50%        0.000000\n",
      "75%        0.000000\n",
      "max        3.000000\n",
      "Name: failures, dtype: float64\n"
     ]
    },
    {
     "data": {
      "text/plain": [
       "0.0    254\n",
       "1.0     42\n",
       "2.0     11\n",
       "3.0     10\n",
       "Name: failures, dtype: int64"
      ]
     },
     "execution_count": 161,
     "metadata": {},
     "output_type": "execute_result"
    }
   ],
   "source": [
    "print(df.failures.describe())\n",
    "df.failures.value_counts()"
   ]
  },
  {
   "cell_type": "code",
   "execution_count": 162,
   "metadata": {},
   "outputs": [
    {
     "data": {
      "text/plain": [
       "4+     254\n",
       "1-3     63\n",
       "Name: failures, dtype: int64"
      ]
     },
     "execution_count": 162,
     "metadata": {},
     "output_type": "execute_result"
    }
   ],
   "source": [
    "# Имеет смысл преобразовать эту переменную в категориальную переменную\n",
    "df.failures.replace(1, '1-3', inplace=True)\n",
    "df.failures.replace(2, '1-3', inplace=True)\n",
    "df.failures.replace(3, '1-3', inplace=True)\n",
    "df.failures.replace(0, '4+', inplace=True)\n",
    "\n",
    "df.failures.value_counts()"
   ]
  },
  {
   "cell_type": "markdown",
   "metadata": {},
   "source": [
    "<strong>Family Relationships<strong>"
   ]
  },
  {
   "cell_type": "code",
   "execution_count": 163,
   "metadata": {},
   "outputs": [
    {
     "name": "stdout",
     "output_type": "stream",
     "text": [
      "count    311.000000\n",
      "mean       3.922830\n",
      "std        0.916071\n",
      "min       -1.000000\n",
      "25%        4.000000\n",
      "50%        4.000000\n",
      "75%        5.000000\n",
      "max        5.000000\n",
      "Name: family_rel, dtype: float64\n"
     ]
    },
    {
     "data": {
      "text/plain": [
       " 4.0    158\n",
       " 5.0     79\n",
       " 3.0     53\n",
       " 2.0     15\n",
       " 1.0      5\n",
       "-1.0      1\n",
       "Name: family_rel, dtype: int64"
      ]
     },
     "execution_count": 163,
     "metadata": {},
     "output_type": "execute_result"
    }
   ],
   "source": [
    "print(df.family_rel.describe())\n",
    "df.family_rel.value_counts()"
   ]
  },
  {
   "cell_type": "code",
   "execution_count": 164,
   "metadata": {},
   "outputs": [],
   "source": [
    "# Удалить выброс: family_rel==-1\n",
    "df = df.loc[df.family_rel.between(1, 5)]"
   ]
  },
  {
   "cell_type": "markdown",
   "metadata": {},
   "source": [
    "<strong>Free Time<strong>"
   ]
  },
  {
   "cell_type": "code",
   "execution_count": 165,
   "metadata": {},
   "outputs": [
    {
     "name": "stdout",
     "output_type": "stream",
     "text": [
      "count    301.000000\n",
      "mean       3.205980\n",
      "std        0.985274\n",
      "min        1.000000\n",
      "25%        3.000000\n",
      "50%        3.000000\n",
      "75%        4.000000\n",
      "max        5.000000\n",
      "Name: free_time, dtype: float64\n"
     ]
    },
    {
     "data": {
      "text/plain": [
       "<matplotlib.axes._subplots.AxesSubplot at 0x7fccc4882af0>"
      ]
     },
     "execution_count": 165,
     "metadata": {},
     "output_type": "execute_result"
    },
    {
     "data": {
      "image/png": "[encoded data removed]",
      "text/plain": [
       "<Figure size 432x288 with 1 Axes>"
      ]
     },
     "metadata": {
      "needs_background": "light"
     },
     "output_type": "display_data"
    }
   ],
   "source": [
    "print(df.free_time.describe())\n",
    "df.free_time.hist()\n",
    "\n",
    "# Никаких признаков выбросов"
   ]
  },
  {
   "cell_type": "markdown",
   "metadata": {},
   "source": [
    "<strong>Friends Time<strong>"
   ]
  },
  {
   "cell_type": "code",
   "execution_count": 166,
   "metadata": {},
   "outputs": [
    {
     "name": "stdout",
     "output_type": "stream",
     "text": [
      "count    303.000000\n",
      "mean       3.099010\n",
      "std        1.087298\n",
      "min        1.000000\n",
      "25%        2.000000\n",
      "50%        3.000000\n",
      "75%        4.000000\n",
      "max        5.000000\n",
      "Name: friends_time, dtype: float64\n"
     ]
    },
    {
     "data": {
      "text/plain": [
       "<matplotlib.axes._subplots.AxesSubplot at 0x7fccc6414d30>"
      ]
     },
     "execution_count": 166,
     "metadata": {},
     "output_type": "execute_result"
    },
    {
     "data": {
      "image/png": "[encoded data removed]",
      "text/plain": [
       "<Figure size 432x288 with 1 Axes>"
      ]
     },
     "metadata": {
      "needs_background": "light"
     },
     "output_type": "display_data"
    }
   ],
   "source": [
    "print(df.friends_time.describe())\n",
    "df.friends_time.hist()\n",
    "\n",
    "# Никаких признаков выбросов"
   ]
  },
  {
   "cell_type": "markdown",
   "metadata": {},
   "source": [
    "<strong>Health<strong>"
   ]
  },
  {
   "cell_type": "code",
   "execution_count": 167,
   "metadata": {},
   "outputs": [
    {
     "name": "stdout",
     "output_type": "stream",
     "text": [
      "count    299.000000\n",
      "mean       3.411371\n",
      "std        1.390767\n",
      "min        1.000000\n",
      "25%        2.000000\n",
      "50%        3.000000\n",
      "75%        5.000000\n",
      "max        5.000000\n",
      "Name: health, dtype: float64\n"
     ]
    },
    {
     "data": {
      "text/plain": [
       "<matplotlib.axes._subplots.AxesSubplot at 0x7fccc5ca40a0>"
      ]
     },
     "execution_count": 167,
     "metadata": {},
     "output_type": "execute_result"
    },
    {
     "data": {
      "image/png": "[encoded data removed]",
      "text/plain": [
       "<Figure size 432x288 with 1 Axes>"
      ]
     },
     "metadata": {
      "needs_background": "light"
     },
     "output_type": "display_data"
    }
   ],
   "source": [
    "print(df.health.describe())\n",
    "df.health.hist()\n",
    "\n",
    "# Никаких признаков выбросов"
   ]
  },
  {
   "cell_type": "markdown",
   "metadata": {},
   "source": [
    "<strong>Absences<strong>"
   ]
  },
  {
   "cell_type": "code",
   "execution_count": 168,
   "metadata": {},
   "outputs": [
    {
     "name": "stdout",
     "output_type": "stream",
     "text": [
      "count    298.000000\n",
      "mean       6.912752\n",
      "std       23.239330\n",
      "min        0.000000\n",
      "25%        0.000000\n",
      "50%        4.000000\n",
      "75%        8.000000\n",
      "max      385.000000\n",
      "Name: absences, dtype: float64\n"
     ]
    },
    {
     "data": {
      "text/plain": [
       "<matplotlib.axes._subplots.AxesSubplot at 0x7fccc5da4c40>"
      ]
     },
     "execution_count": 168,
     "metadata": {},
     "output_type": "execute_result"
    },
    {
     "data": {
      "image/png": "[encoded data removed]",
      "text/plain": [
       "<Figure size 432x288 with 1 Axes>"
      ]
     },
     "metadata": {
      "needs_background": "light"
     },
     "output_type": "display_data"
    }
   ],
   "source": [
    "print(df.absences.describe())\n",
    "df.absences.hist()"
   ]
  },
  {
   "cell_type": "markdown",
   "metadata": {},
   "source": [
    "Мы видим, что большинство наблюдений находятся в диапазоне от 0 до 50, это признак выбросов."
   ]
  },
  {
   "cell_type": "code",
   "execution_count": 169,
   "metadata": {},
   "outputs": [
    {
     "name": "stdout",
     "output_type": "stream",
     "text": [
      "25th quantile: 0.0, 75-й quantile: 8.0, IQR: 8.0,  Outliers' range: [-12.0, 20.0].\n"
     ]
    },
    {
     "data": {
      "image/png": "[encoded data removed]",
      "text/plain": [
       "<Figure size 432x288 with 1 Axes>"
      ]
     },
     "metadata": {
      "needs_background": "light"
     },
     "output_type": "display_data"
    }
   ],
   "source": [
    "# Вычисляем диапазон выбросов для \"absences\"\n",
    "iqr('absences')"
   ]
  },
  {
   "cell_type": "markdown",
   "metadata": {},
   "source": [
    "Верхняя граница диапазона 20, можно отбросить наблюдения с более чем 20 пропущенными занятиями."
   ]
  },
  {
   "cell_type": "code",
   "execution_count": 170,
   "metadata": {},
   "outputs": [],
   "source": [
    "df = df.loc[df.absences.between(0, 20)]"
   ]
  },
  {
   "cell_type": "markdown",
   "metadata": {},
   "source": [
    "<strong>Score<strong>"
   ]
  },
  {
   "cell_type": "code",
   "execution_count": 171,
   "metadata": {},
   "outputs": [
    {
     "name": "stdout",
     "output_type": "stream",
     "text": [
      "count    279.000000\n",
      "mean      52.043011\n",
      "std       22.639296\n",
      "min        0.000000\n",
      "25%       45.000000\n",
      "50%       55.000000\n",
      "75%       67.500000\n",
      "max      100.000000\n",
      "Name: score, dtype: float64\n"
     ]
    },
    {
     "data": {
      "text/plain": [
       "<matplotlib.axes._subplots.AxesSubplot at 0x7fccc469c730>"
      ]
     },
     "execution_count": 171,
     "metadata": {},
     "output_type": "execute_result"
    },
    {
     "data": {
      "image/png": "[encoded data removed]",
      "text/plain": [
       "<Figure size 432x288 with 1 Axes>"
      ]
     },
     "metadata": {
      "needs_background": "light"
     },
     "output_type": "display_data"
    }
   ],
   "source": [
    "print(df.score.describe())\n",
    "df.score.hist()"
   ]
  },
  {
   "cell_type": "markdown",
   "metadata": {},
   "source": [
    "Похоже, оценка за тест варьируется от 20 до 100. Мы можем предположить, что если оценка равна 0, это означает, что студент не сдавал экзамен по математике. Поскольку конечная цель - предсказать оценку за тест, а не участие в тесте, мы можем опустить наблюдение со score == 0."
   ]
  },
  {
   "cell_type": "code",
   "execution_count": 172,
   "metadata": {},
   "outputs": [
    {
     "data": {
      "text/plain": [
       "<matplotlib.axes._subplots.AxesSubplot at 0x7fccc5db6460>"
      ]
     },
     "execution_count": 172,
     "metadata": {},
     "output_type": "execute_result"
    },
    {
     "data": {
      "image/png": "[encoded data removed]",
      "text/plain": [
       "<Figure size 432x288 with 1 Axes>"
      ]
     },
     "metadata": {
      "needs_background": "light"
     },
     "output_type": "display_data"
    }
   ],
   "source": [
    "df = df.loc[df.score.between(20, 100)]\n",
    "df.score.hist()"
   ]
  },
  {
   "cell_type": "code",
   "execution_count": 173,
   "metadata": {},
   "outputs": [],
   "source": [
    "# Обновим numeric и factor так как мы изменили тип одной переменной\n",
    "numeric = df.select_dtypes(include=np.number).columns.tolist()\n",
    "factor = df.select_dtypes(exclude=np.number).columns.tolist()"
   ]
  },
  {
   "cell_type": "markdown",
   "metadata": {},
   "source": [
    "## Корреляционный анализ - количественные переменные"
   ]
  },
  {
   "cell_type": "code",
   "execution_count": 174,
   "metadata": {},
   "outputs": [
    {
     "data": {
      "text/plain": [
       "<seaborn.axisgrid.PairGrid at 0x7fccc5db6190>"
      ]
     },
     "execution_count": 174,
     "metadata": {},
     "output_type": "execute_result"
    },
    {
     "data": {
      "image/png": "[encoded data removed]",
      "text/plain": [
       "<Figure size 900x180 with 5 Axes>"
      ]
     },
     "metadata": {
      "needs_background": "light"
     },
     "output_type": "display_data"
    }
   ],
   "source": [
    "# С 11 числовыми переменными сложно визуализировать все графики вместе,\n",
    "# поэтому я их разделяю\n",
    "sns.pairplot(data=df,\n",
    "             y_vars=['score'],\n",
    "             x_vars=['age', 'mother_educ', 'father_educ', 'travel_time',\n",
    "                     'study_time'], kind='reg')"
   ]
  },
  {
   "cell_type": "code",
   "execution_count": 175,
   "metadata": {},
   "outputs": [
    {
     "data": {
      "text/plain": [
       "<seaborn.axisgrid.PairGrid at 0x7fccc5e36340>"
      ]
     },
     "execution_count": 175,
     "metadata": {},
     "output_type": "execute_result"
    },
    {
     "data": {
      "image/png": "[encoded data removed]",
      "text/plain": [
       "<Figure size 900x180 with 5 Axes>"
      ]
     },
     "metadata": {
      "needs_background": "light"
     },
     "output_type": "display_data"
    }
   ],
   "source": [
    "sns.pairplot(data=df,\n",
    "             y_vars=['score'],\n",
    "             x_vars=['family_rel', 'free_time', 'friends_time',\n",
    "                     'health', 'absences'], kind='reg')"
   ]
  },
  {
   "cell_type": "code",
   "execution_count": 176,
   "metadata": {},
   "outputs": [
    {
     "data": {
      "text/html": [
       "<div>\n",
       "<style scoped>\n",
       "    .dataframe tbody tr th:only-of-type {\n",
       "        vertical-align: middle;\n",
       "    }\n",
       "\n",
       "    .dataframe tbody tr th {\n",
       "        vertical-align: top;\n",
       "    }\n",
       "\n",
       "    .dataframe thead th {\n",
       "        text-align: right;\n",
       "    }\n",
       "</style>\n",
       "<table border=\"1\" class=\"dataframe\">\n",
       "  <thead>\n",
       "    <tr style=\"text-align: right;\">\n",
       "      <th></th>\n",
       "      <th>age</th>\n",
       "      <th>mother_educ</th>\n",
       "      <th>father_educ</th>\n",
       "      <th>travel_time</th>\n",
       "      <th>study_time</th>\n",
       "      <th>family_rel</th>\n",
       "      <th>free_time</th>\n",
       "      <th>friends_time</th>\n",
       "      <th>health</th>\n",
       "      <th>absences</th>\n",
       "      <th>score</th>\n",
       "    </tr>\n",
       "  </thead>\n",
       "  <tbody>\n",
       "    <tr>\n",
       "      <th>age</th>\n",
       "      <td>1.000000</td>\n",
       "      <td>-0.173664</td>\n",
       "      <td>-0.108582</td>\n",
       "      <td>0.142199</td>\n",
       "      <td>0.029080</td>\n",
       "      <td>-0.041455</td>\n",
       "      <td>-0.059791</td>\n",
       "      <td>0.070858</td>\n",
       "      <td>-0.009523</td>\n",
       "      <td>0.167872</td>\n",
       "      <td>-0.141664</td>\n",
       "    </tr>\n",
       "    <tr>\n",
       "      <th>mother_educ</th>\n",
       "      <td>-0.173664</td>\n",
       "      <td>1.000000</td>\n",
       "      <td>0.633060</td>\n",
       "      <td>-0.123666</td>\n",
       "      <td>0.059305</td>\n",
       "      <td>0.008021</td>\n",
       "      <td>0.013154</td>\n",
       "      <td>0.081579</td>\n",
       "      <td>-0.036609</td>\n",
       "      <td>0.091525</td>\n",
       "      <td>0.157554</td>\n",
       "    </tr>\n",
       "    <tr>\n",
       "      <th>father_educ</th>\n",
       "      <td>-0.108582</td>\n",
       "      <td>0.633060</td>\n",
       "      <td>1.000000</td>\n",
       "      <td>-0.134001</td>\n",
       "      <td>-0.052266</td>\n",
       "      <td>0.030304</td>\n",
       "      <td>-0.012486</td>\n",
       "      <td>0.054507</td>\n",
       "      <td>0.036666</td>\n",
       "      <td>0.012251</td>\n",
       "      <td>0.091197</td>\n",
       "    </tr>\n",
       "    <tr>\n",
       "      <th>travel_time</th>\n",
       "      <td>0.142199</td>\n",
       "      <td>-0.123666</td>\n",
       "      <td>-0.134001</td>\n",
       "      <td>1.000000</td>\n",
       "      <td>-0.149130</td>\n",
       "      <td>-0.052300</td>\n",
       "      <td>-0.025814</td>\n",
       "      <td>-0.116722</td>\n",
       "      <td>0.010862</td>\n",
       "      <td>-0.072751</td>\n",
       "      <td>-0.058354</td>\n",
       "    </tr>\n",
       "    <tr>\n",
       "      <th>study_time</th>\n",
       "      <td>0.029080</td>\n",
       "      <td>0.059305</td>\n",
       "      <td>-0.052266</td>\n",
       "      <td>-0.149130</td>\n",
       "      <td>1.000000</td>\n",
       "      <td>0.100514</td>\n",
       "      <td>-0.114216</td>\n",
       "      <td>-0.006765</td>\n",
       "      <td>-0.109600</td>\n",
       "      <td>-0.072076</td>\n",
       "      <td>0.134276</td>\n",
       "    </tr>\n",
       "    <tr>\n",
       "      <th>family_rel</th>\n",
       "      <td>-0.041455</td>\n",
       "      <td>0.008021</td>\n",
       "      <td>0.030304</td>\n",
       "      <td>-0.052300</td>\n",
       "      <td>0.100514</td>\n",
       "      <td>1.000000</td>\n",
       "      <td>0.142908</td>\n",
       "      <td>0.027948</td>\n",
       "      <td>0.136796</td>\n",
       "      <td>-0.070977</td>\n",
       "      <td>0.058295</td>\n",
       "    </tr>\n",
       "    <tr>\n",
       "      <th>free_time</th>\n",
       "      <td>-0.059791</td>\n",
       "      <td>0.013154</td>\n",
       "      <td>-0.012486</td>\n",
       "      <td>-0.025814</td>\n",
       "      <td>-0.114216</td>\n",
       "      <td>0.142908</td>\n",
       "      <td>1.000000</td>\n",
       "      <td>0.282008</td>\n",
       "      <td>0.098489</td>\n",
       "      <td>0.102626</td>\n",
       "      <td>0.026127</td>\n",
       "    </tr>\n",
       "    <tr>\n",
       "      <th>friends_time</th>\n",
       "      <td>0.070858</td>\n",
       "      <td>0.081579</td>\n",
       "      <td>0.054507</td>\n",
       "      <td>-0.116722</td>\n",
       "      <td>-0.006765</td>\n",
       "      <td>0.027948</td>\n",
       "      <td>0.282008</td>\n",
       "      <td>1.000000</td>\n",
       "      <td>0.048874</td>\n",
       "      <td>0.062074</td>\n",
       "      <td>-0.187256</td>\n",
       "    </tr>\n",
       "    <tr>\n",
       "      <th>health</th>\n",
       "      <td>-0.009523</td>\n",
       "      <td>-0.036609</td>\n",
       "      <td>0.036666</td>\n",
       "      <td>0.010862</td>\n",
       "      <td>-0.109600</td>\n",
       "      <td>0.136796</td>\n",
       "      <td>0.098489</td>\n",
       "      <td>0.048874</td>\n",
       "      <td>1.000000</td>\n",
       "      <td>0.029504</td>\n",
       "      <td>-0.058775</td>\n",
       "    </tr>\n",
       "    <tr>\n",
       "      <th>absences</th>\n",
       "      <td>0.167872</td>\n",
       "      <td>0.091525</td>\n",
       "      <td>0.012251</td>\n",
       "      <td>-0.072751</td>\n",
       "      <td>-0.072076</td>\n",
       "      <td>-0.070977</td>\n",
       "      <td>0.102626</td>\n",
       "      <td>0.062074</td>\n",
       "      <td>0.029504</td>\n",
       "      <td>1.000000</td>\n",
       "      <td>-0.168982</td>\n",
       "    </tr>\n",
       "    <tr>\n",
       "      <th>score</th>\n",
       "      <td>-0.141664</td>\n",
       "      <td>0.157554</td>\n",
       "      <td>0.091197</td>\n",
       "      <td>-0.058354</td>\n",
       "      <td>0.134276</td>\n",
       "      <td>0.058295</td>\n",
       "      <td>0.026127</td>\n",
       "      <td>-0.187256</td>\n",
       "      <td>-0.058775</td>\n",
       "      <td>-0.168982</td>\n",
       "      <td>1.000000</td>\n",
       "    </tr>\n",
       "  </tbody>\n",
       "</table>\n",
       "</div>"
      ],
      "text/plain": [
       "                   age  mother_educ  father_educ  travel_time  study_time  \\\n",
       "age           1.000000    -0.173664    -0.108582     0.142199    0.029080   \n",
       "mother_educ  -0.173664     1.000000     0.633060    -0.123666    0.059305   \n",
       "father_educ  -0.108582     0.633060     1.000000    -0.134001   -0.052266   \n",
       "travel_time   0.142199    -0.123666    -0.134001     1.000000   -0.149130   \n",
       "study_time    0.029080     0.059305    -0.052266    -0.149130    1.000000   \n",
       "family_rel   -0.041455     0.008021     0.030304    -0.052300    0.100514   \n",
       "free_time    -0.059791     0.013154    -0.012486    -0.025814   -0.114216   \n",
       "friends_time  0.070858     0.081579     0.054507    -0.116722   -0.006765   \n",
       "health       -0.009523    -0.036609     0.036666     0.010862   -0.109600   \n",
       "absences      0.167872     0.091525     0.012251    -0.072751   -0.072076   \n",
       "score        -0.141664     0.157554     0.091197    -0.058354    0.134276   \n",
       "\n",
       "              family_rel  free_time  friends_time    health  absences  \\\n",
       "age            -0.041455  -0.059791      0.070858 -0.009523  0.167872   \n",
       "mother_educ     0.008021   0.013154      0.081579 -0.036609  0.091525   \n",
       "father_educ     0.030304  -0.012486      0.054507  0.036666  0.012251   \n",
       "travel_time    -0.052300  -0.025814     -0.116722  0.010862 -0.072751   \n",
       "study_time      0.100514  -0.114216     -0.006765 -0.109600 -0.072076   \n",
       "family_rel      1.000000   0.142908      0.027948  0.136796 -0.070977   \n",
       "free_time       0.142908   1.000000      0.282008  0.098489  0.102626   \n",
       "friends_time    0.027948   0.282008      1.000000  0.048874  0.062074   \n",
       "health          0.136796   0.098489      0.048874  1.000000  0.029504   \n",
       "absences       -0.070977   0.102626      0.062074  0.029504  1.000000   \n",
       "score           0.058295   0.026127     -0.187256 -0.058775 -0.168982   \n",
       "\n",
       "                 score  \n",
       "age          -0.141664  \n",
       "mother_educ   0.157554  \n",
       "father_educ   0.091197  \n",
       "travel_time  -0.058354  \n",
       "study_time    0.134276  \n",
       "family_rel    0.058295  \n",
       "free_time     0.026127  \n",
       "friends_time -0.187256  \n",
       "health       -0.058775  \n",
       "absences     -0.168982  \n",
       "score         1.000000  "
      ]
     },
     "execution_count": 176,
     "metadata": {},
     "output_type": "execute_result"
    }
   ],
   "source": [
    "df.corr()"
   ]
  },
  {
   "cell_type": "markdown",
   "metadata": {},
   "source": [
    "Score отрицательно корелирует с age, friend_time and absences.\n",
    "\n",
    "Score позитивно корелирует с mother_educ, and study_time. \n",
    "\n",
    "Кореляция с father_educ, travel_time, family_rel, free_time и health очень слабая. Мы можем исключить их из дальнейшего анализа."
   ]
  },
  {
   "cell_type": "code",
   "execution_count": 177,
   "metadata": {},
   "outputs": [],
   "source": [
    "df = df.drop(['travel_time', 'family_rel',\n",
    "              'free_time', 'health', 'father_educ'], 1)"
   ]
  },
  {
   "cell_type": "markdown",
   "metadata": {},
   "source": [
    "## Анализ номинативных переменных"
   ]
  },
  {
   "cell_type": "markdown",
   "metadata": {},
   "source": [
    "Чтобы выбрать хорошие предикторы оценок за экзамен по математике среди категориальных переменных, мы можем проследить, как распределение оценок зависит от значений заданных переменных. Для этого мы сделаем boxplot для каждой переменной. "
   ]
  },
  {
   "cell_type": "code",
   "execution_count": 178,
   "metadata": {},
   "outputs": [
    {
     "data": {
      "image/png": "[encoded data removed]",
      "text/plain": [
       "<Figure size 288x288 with 1 Axes>"
      ]
     },
     "metadata": {
      "needs_background": "light"
     },
     "output_type": "display_data"
    },
    {
     "data": {
      "image/png": "[encoded data removed]",
      "text/plain": [
       "<Figure size 288x288 with 1 Axes>"
      ]
     },
     "metadata": {
      "needs_background": "light"
     },
     "output_type": "display_data"
    },
    {
     "data": {
      "image/png": "[encoded data removed]",
      "text/plain": [
       "<Figure size 288x288 with 1 Axes>"
      ]
     },
     "metadata": {
      "needs_background": "light"
     },
     "output_type": "display_data"
    },
    {
     "data": {
      "image/png": "[encoded data removed]",
      "text/plain": [
       "<Figure size 288x288 with 1 Axes>"
      ]
     },
     "metadata": {
      "needs_background": "light"
     },
     "output_type": "display_data"
    },
    {
     "data": {
      "image/png": "[encoded data removed]",
      "text/plain": [
       "<Figure size 288x288 with 1 Axes>"
      ]
     },
     "metadata": {
      "needs_background": "light"
     },
     "output_type": "display_data"
    },
    {
     "data": {
      "image/png": "[encoded data removed]",
      "text/plain": [
       "<Figure size 288x288 with 1 Axes>"
      ]
     },
     "metadata": {
      "needs_background": "light"
     },
     "output_type": "display_data"
    },
    {
     "data": {
      "image/png": "[encoded data removed]",
      "text/plain": [
       "<Figure size 288x288 with 1 Axes>"
      ]
     },
     "metadata": {
      "needs_background": "light"
     },
     "output_type": "display_data"
    },
    {
     "data": {
      "image/png": "[encoded data removed]",
      "text/plain": [
       "<Figure size 288x288 with 1 Axes>"
      ]
     },
     "metadata": {
      "needs_background": "light"
     },
     "output_type": "display_data"
    },
    {
     "data": {
      "image/png": "[encoded data removed]",
      "text/plain": [
       "<Figure size 288x288 with 1 Axes>"
      ]
     },
     "metadata": {
      "needs_background": "light"
     },
     "output_type": "display_data"
    },
    {
     "data": {
      "image/png": "[encoded data removed]",
      "text/plain": [
       "<Figure size 288x288 with 1 Axes>"
      ]
     },
     "metadata": {
      "needs_background": "light"
     },
     "output_type": "display_data"
    },
    {
     "data": {
      "image/png": "[encoded data removed]",
      "text/plain": [
       "<Figure size 288x288 with 1 Axes>"
      ]
     },
     "metadata": {
      "needs_background": "light"
     },
     "output_type": "display_data"
    },
    {
     "data": {
      "image/png": "[encoded data removed]",
      "text/plain": [
       "<Figure size 288x288 with 1 Axes>"
      ]
     },
     "metadata": {
      "needs_background": "light"
     },
     "output_type": "display_data"
    },
    {
     "data": {
      "image/png": "[encoded data removed]",
      "text/plain": [
       "<Figure size 288x288 with 1 Axes>"
      ]
     },
     "metadata": {
      "needs_background": "light"
     },
     "output_type": "display_data"
    },
    {
     "data": {
      "image/png": "[encoded data removed]",
      "text/plain": [
       "<Figure size 288x288 with 1 Axes>"
      ]
     },
     "metadata": {
      "needs_background": "light"
     },
     "output_type": "display_data"
    },
    {
     "data": {
      "image/png": "[encoded data removed]",
      "text/plain": [
       "<Figure size 288x288 with 1 Axes>"
      ]
     },
     "metadata": {
      "needs_background": "light"
     },
     "output_type": "display_data"
    },
    {
     "data": {
      "image/png": "[encoded data removed]",
      "text/plain": [
       "<Figure size 288x288 with 1 Axes>"
      ]
     },
     "metadata": {
      "needs_background": "light"
     },
     "output_type": "display_data"
    },
    {
     "data": {
      "image/png": "[encoded data removed]",
      "text/plain": [
       "<Figure size 288x288 with 1 Axes>"
      ]
     },
     "metadata": {
      "needs_background": "light"
     },
     "output_type": "display_data"
    },
    {
     "data": {
      "image/png": "[encoded data removed]",
      "text/plain": [
       "<Figure size 288x288 with 1 Axes>"
      ]
     },
     "metadata": {
      "needs_background": "light"
     },
     "output_type": "display_data"
    }
   ],
   "source": [
    "for var in factor:\n",
    "    fig, ax = plt.subplots(figsize=(4, 4))\n",
    "    sns.boxplot(x=var, y='score', data=df)\n",
    "    plt.xticks(rotation=45)\n",
    "    ax.set_title('Boxplot for ' + var)\n",
    "    plt.show()"
   ]
  },
  {
   "cell_type": "markdown",
   "metadata": {},
   "source": [
    "Согласно графикам, оценка зависит от всех категориальных переменных, кроме  family_size, parents_status, family_sup, paid_math and activities.\n",
    "\n",
    "Давайте проверим зависимость с помощью теста Студента. Мы протестируем можно ли отвергнуть гипотезу H0: математические ожидания заданной переменной в двух выборок одинаковы; в пользу H1: математические ожидания заданной переменной в двух выборок различны."
   ]
  },
  {
   "cell_type": "code",
   "execution_count": 179,
   "metadata": {},
   "outputs": [],
   "source": [
    "def get_stat_dif(column):\n",
    "    # Функция вычисляет p-value для t-test и указывает елси\n",
    "    # p-value достаточно маленькое для того что бы отвергнуть H0\n",
    "    # (H0: математические ожидания заданной переменной в двух выборок одинаковы)\n",
    "    # индексы уникальных значений\n",
    "    cols = df.loc[:, column].value_counts().index\n",
    "    # все попарные комбинации индексов\n",
    "    combinations_all = list(combinations(cols, 2))\n",
    "    for comb in combinations_all:\n",
    "        if ttest_ind(df.loc[df.loc[:, column] == comb[0], 'score'],\n",
    "                     df.loc[df.loc[:, column] == comb[1],\n",
    "                            'score']).pvalue <= 0.05/len(combinations_all):\n",
    "            print('Найдены статистически значимые различия для variable', column)\n",
    "            break"
   ]
  },
  {
   "cell_type": "code",
   "execution_count": 180,
   "metadata": {},
   "outputs": [
    {
     "name": "stdout",
     "output_type": "stream",
     "text": [
      "Найдены статистически значимые различия для variable sex\n",
      "Найдены статистически значимые различия для variable urban\n",
      "Найдены статистически значимые различия для variable mother_job\n",
      "Найдены статистически значимые различия для variable failures\n",
      "Найдены статистически значимые различия для variable educ_sup\n"
     ]
    }
   ],
   "source": [
    "for col in factor:\n",
    "    get_stat_dif(col)"
   ]
  },
  {
   "cell_type": "markdown",
   "metadata": {},
   "source": [
    "Мы отклоняем H0 для 5 категориальных переменных: sex, urban, mother_job, failures and school_sup. Мы сохраняем их как для дальнейшей работы."
   ]
  },
  {
   "cell_type": "code",
   "execution_count": 181,
   "metadata": {},
   "outputs": [],
   "source": [
    "for i in ['sex', 'urban', 'mother_job', 'failures', 'school_sup']:\n",
    "    if i in factor:\n",
    "        factor.remove(i)  # factor сохранит только ненужные переменные\n",
    "\n",
    "# удалить переменные из конечных данных - df_model\n",
    "df_model = df.drop(factor, 1)"
   ]
  },
  {
   "cell_type": "code",
   "execution_count": 182,
   "metadata": {},
   "outputs": [
    {
     "name": "stdout",
     "output_type": "stream",
     "text": [
      "<class 'pandas.core.frame.DataFrame'>\n",
      "Int64Index: 251 entries, 0 to 394\n",
      "Data columns (total 10 columns):\n",
      " #   Column        Non-Null Count  Dtype  \n",
      "---  ------        --------------  -----  \n",
      " 0   sex           251 non-null    object \n",
      " 1   age           251 non-null    int64  \n",
      " 2   urban         244 non-null    object \n",
      " 3   mother_educ   249 non-null    float64\n",
      " 4   mother_job    240 non-null    object \n",
      " 5   study_time    247 non-null    float64\n",
      " 6   failures      239 non-null    object \n",
      " 7   friends_time  246 non-null    float64\n",
      " 8   absences      251 non-null    float64\n",
      " 9   score         251 non-null    float64\n",
      "dtypes: float64(5), int64(1), object(4)\n",
      "memory usage: 31.6+ KB\n"
     ]
    }
   ],
   "source": [
    "df_model.info()"
   ]
  },
  {
   "cell_type": "markdown",
   "metadata": {},
   "source": [
    "Теперь набор данных df_model включает переменные, которые мы будем использовать для оценки модели. "
   ]
  },
  {
   "cell_type": "markdown",
   "metadata": {},
   "source": [
    "# Выводы"
   ]
  },
  {
   "cell_type": "markdown",
   "metadata": {},
   "source": [
    "Итак, в результате EDA для анализа условий жизни учащихся на их успеваемость по математике, были получены следующие выводы: \n",
    " - В данных мало пустых значений, самое большое значение 45 из 395 для переменной parents_status\n",
    " - Небольшое количество выбросов найдены в переменных: age father_educ travel_time family_rel absences\n",
    " - Переменная score содержит наибольшое количтсво выбросов, поскольку в базу данных по всей видимости включили учеников не сдававших экзамен по математике. Эту информацию стоит уточнить, поскольку если это так, то для поставленной задачи - анализа условий жизни учащихся на их успеваемость, эти наблюдения не подходят. Если же одна из задач будет оценить анализа условий жизни учащихся на вероятность сдачи экзамены, тогда эти наблюдения стоит включить в анализ.\n",
    " - Отрицательная корреляция параметра score и absences предсказуемо говорит о том что чем больше ученик пропускает занятия, тем хуже он сдает экзамен. Напротив, положительная корреляция score и study_time свидетельствует о том что чем больше времени школьник тратит на учебу, тем выше у него оценка. Интересно что наличие или отсутствие платных занятий по математике не имеет эффекта на финальную оценку.\n",
    " - Уровень образование матери влияет на успеешность сдачи экзамена в большей степени, чем уровень образования отца, та же тенденция прослеживается и с участием в рынке труда родителей\n",
    " - Интересно что дети, которые переживали большее количество внеучебеых неудач имеют в средем оценки выше\n",
    " - Самые важные параметры, которые предлагается использовать в дальнейшем для построения модели, это sex, age, urban, mother_educ, mother_job, study_time, failures, friends_time, absences"
   ]
  }
 ],
 "metadata": {
  "kernelspec": {
   "display_name": "Python 3",
   "language": "python",
   "name": "python3"
  },
  "language_info": {
   "codemirror_mode": {
    "name": "ipython",
    "version": 3
   },
   "file_extension": ".py",
   "mimetype": "text/x-python",
   "name": "python",
   "nbconvert_exporter": "python",
   "pygments_lexer": "ipython3",
   "version": "3.8.3"
  }
 },
 "nbformat": 4,
 "nbformat_minor": 4
}
